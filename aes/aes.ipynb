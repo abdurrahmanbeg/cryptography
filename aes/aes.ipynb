{
 "cells": [
  {
   "cell_type": "code",
   "execution_count": 4,
   "metadata": {},
   "outputs": [],
   "source": [
    "global word, block, rounds\n",
    "word = 4 #each word has 4 bytes\n",
    "block = 16 #each block is set to 16 bytes, i.e., 128 bits\n",
    "rounds = 10 #I am only coding this for 10 rounds in 128-bit AES, but hopefully will have time to expand it"
   ]
  },
  {
   "cell_type": "markdown",
   "metadata": {},
   "source": [
    "# SubBytes transformation tables and their functions"
   ]
  },
  {
   "cell_type": "code",
   "execution_count": 5,
   "metadata": {},
   "outputs": [],
   "source": [
    "\n",
    "SubBytes = (\n",
    "    0x63, 0x7C, 0x77, 0x7B, 0xF2, 0x6B, 0x6F, 0xC5, 0x30, 0x01, 0x67, 0x2B, 0xFE, 0xD7, 0xAB, 0x76,\n",
    "    0xCA, 0x82, 0xC9, 0x7D, 0xFA, 0x59, 0x47, 0xF0, 0xAD, 0xD4, 0xA2, 0xAF, 0x9C, 0xA4, 0x72, 0xC0,\n",
    "    0xB7, 0xFD, 0x93, 0x26, 0x36, 0x3F, 0xF7, 0xCC, 0x34, 0xA5, 0xE5, 0xF1, 0x71, 0xD8, 0x31, 0x15,\n",
    "    0x04, 0xC7, 0x23, 0xC3, 0x18, 0x96, 0x05, 0x9A, 0x07, 0x12, 0x80, 0xE2, 0xEB, 0x27, 0xB2, 0x75,\n",
    "    0x09, 0x83, 0x2C, 0x1A, 0x1B, 0x6E, 0x5A, 0xA0, 0x52, 0x3B, 0xD6, 0xB3, 0x29, 0xE3, 0x2F, 0x84,\n",
    "    0x53, 0xD1, 0x00, 0xED, 0x20, 0xFC, 0xB1, 0x5B, 0x6A, 0xCB, 0xBE, 0x39, 0x4A, 0x4C, 0x58, 0xCF,\n",
    "    0xD0, 0xEF, 0xAA, 0xFB, 0x43, 0x4D, 0x33, 0x85, 0x45, 0xF9, 0x02, 0x7F, 0x50, 0x3C, 0x9F, 0xA8,\n",
    "    0x51, 0xA3, 0x40, 0x8F, 0x92, 0x9D, 0x38, 0xF5, 0xBC, 0xB6, 0xDA, 0x21, 0x10, 0xFF, 0xF3, 0xD2,\n",
    "    0xCD, 0x0C, 0x13, 0xEC, 0x5F, 0x97, 0x44, 0x17, 0xC4, 0xA7, 0x7E, 0x3D, 0x64, 0x5D, 0x19, 0x73,\n",
    "    0x60, 0x81, 0x4F, 0xDC, 0x22, 0x2A, 0x90, 0x88, 0x46, 0xEE, 0xB8, 0x14, 0xDE, 0x5E, 0x0B, 0xDB,\n",
    "    0xE0, 0x32, 0x3A, 0x0A, 0x49, 0x06, 0x24, 0x5C, 0xC2, 0xD3, 0xAC, 0x62, 0x91, 0x95, 0xE4, 0x79,\n",
    "    0xE7, 0xC8, 0x37, 0x6D, 0x8D, 0xD5, 0x4E, 0xA9, 0x6C, 0x56, 0xF4, 0xEA, 0x65, 0x7A, 0xAE, 0x08,\n",
    "    0xBA, 0x78, 0x25, 0x2E, 0x1C, 0xA6, 0xB4, 0xC6, 0xE8, 0xDD, 0x74, 0x1F, 0x4B, 0xBD, 0x8B, 0x8A,\n",
    "    0x70, 0x3E, 0xB5, 0x66, 0x48, 0x03, 0xF6, 0x0E, 0x61, 0x35, 0x57, 0xB9, 0x86, 0xC1, 0x1D, 0x9E,\n",
    "    0xE1, 0xF8, 0x98, 0x11, 0x69, 0xD9, 0x8E, 0x94, 0x9B, 0x1E, 0x87, 0xE9, 0xCE, 0x55, 0x28, 0xDF,\n",
    "    0x8C, 0xA1, 0x89, 0x0D, 0xBF, 0xE6, 0x42, 0x68, 0x41, 0x99, 0x2D, 0x0F, 0xB0, 0x54, 0xBB, 0x16,\n",
    ")\n"
   ]
  },
  {
   "cell_type": "code",
   "execution_count": 6,
   "metadata": {},
   "outputs": [],
   "source": [
    "def subBytes (state):\n",
    "    for i in range(word):\n",
    "        for j in range(word):\n",
    "            state[i][j] = SubBytes[state[i][j]]\n",
    "    return state\n",
    "def inverseSubBytes (state):\n",
    "    for i in range(word):\n",
    "        for j in range(word):\n",
    "            state[i][j] = InvSubBytes[state[i][j]]  \n",
    "    return state\n"
   ]
  },
  {
   "cell_type": "markdown",
   "metadata": {},
   "source": [
    "# Other per round functions, excluding the key"
   ]
  },
  {
   "cell_type": "markdown",
   "metadata": {},
   "source": [
    "ShiftRows"
   ]
  },
  {
   "cell_type": "code",
   "execution_count": 7,
   "metadata": {},
   "outputs": [],
   "source": [
    "def shiftRows(state):\n",
    "    print(state)\n",
    "    state[0][1], state[1][1], state[2][1], state[3][1] = state[1][1], state[2][1], state[3][1], state[0][1]\n",
    "    state[0][2], state[1][2], state[2][2], state[3][2] = state[2][2], state[3][2], state[0][2], state[1][2]\n",
    "    state[0][3], state[1][3], state[2][3], state[3][3] = state[3][3], state[0][3], state[1][3], state[2][3]\n",
    "    #print(state)\n",
    "            \n",
    "    return state\n",
    "\n",
    "def inverseShiftRows(state):\n",
    "    state[0][1], state[1][1], state[2][1], state[3][1] = state[3][1], state[0][1], state[1][1], state[2][1]\n",
    "    state[0][2], state[1][2], state[2][2], state[3][2] = state[2][2], state[3][2], state[0][2], state[1][2]\n",
    "    state[0][3], state[1][3], state[2][3], state[3][3] = state[1][3], state[2][3], state[3][3], state[0][3]\n",
    "    #print(state)\n",
    "    return state"
   ]
  },
  {
   "cell_type": "code",
   "execution_count": 12,
   "metadata": {},
   "outputs": [
    {
     "name": "stdout",
     "output_type": "stream",
     "text": [
      "[[[1], [2], [3], [4]], [[5], [6], [7], [8]], [[9], [10], [11], [12]], [[13], [14], [15], [16]]]\n",
      "[[1], [6], [11], [16]]\n",
      "[[1], [2], [3], [4]]\n"
     ]
    }
   ],
   "source": [
    "def test():\n",
    "    state = [[[1],[2],[3],[4]],\n",
    "             [[5],[6],[7],[8]],\n",
    "             [[9],[10],[11],[12]],\n",
    "             [[13],[14],[15],[16]]]\n",
    "    state = shiftRows(state)\n",
    "    print(state[0][:])\n",
    "    state = inverseShiftRows(state)\n",
    "    print(state[0][:])\n",
    "test()"
   ]
  },
  {
   "cell_type": "markdown",
   "metadata": {},
   "source": [
    "MixColumns! Had trouble with this one, so I referred to other sources to understand. But I am still not managing to make it work with my code as of now."
   ]
  },
  {
   "cell_type": "code",
   "execution_count": 13,
   "metadata": {},
   "outputs": [],
   "source": [
    "def mixColumns (col):\n",
    "    for i in range(word):\n",
    "        mixColumn(col[i])\n",
    "    return col\n",
    "\n",
    "def inverseMixColumns (col):\n",
    "    for i in range(word):\n",
    "        a = xtime(xtime(col[i][0] ^ col[i][2]))\n",
    "        b = xtime(xtime(col[i][1] ^ col[i][3]))\n",
    "        col[i][0] ^= a\n",
    "        col[i][1] ^= b\n",
    "        col[i][2] ^= a\n",
    "        col[i][3] ^= b\n",
    "    mixColumns(col)\n",
    "    return col\n",
    "\n",
    "def mixColumn(col):\n",
    "    t = col[0] ^ col[1] ^ col[2] ^ col[3]\n",
    "    a = col[0]\n",
    "    col[0] ^= t ^ xtime(col[0] ^ col[1])\n",
    "    col[1] ^= t ^ xtime(col[1] ^ col[2])\n",
    "    col[2] ^= t ^ xtime(col[2] ^ col[3])\n",
    "    col[3] ^= t ^ xtime(col[3] ^ a)\n",
    "    return col\n",
    "\n",
    "#taken from the web for mixcolumn XOR operations, couldn't manage to do it on my own due to time\n",
    "xtime = lambda a: (((a << 1) ^ 0x1B) & 0xFF) if (a & 0x80) else (a << 1)\n"
   ]
  },
  {
   "cell_type": "code",
   "execution_count": 14,
   "metadata": {},
   "outputs": [],
   "source": [
    "def BytesToMatrix(state):\n",
    "    shape = []\n",
    "    for i in range(block):\n",
    "        byte = (state>>(8*(15-i)))& 0xFF\n",
    "        if i % word == 0:\n",
    "            shape.append([byte])\n",
    "        else:\n",
    "            shape[i//word].append(byte)\n",
    "    return shape\n",
    "\n",
    "def MatrixToBytes(shape):\n",
    "    state = 0\n",
    "    for i in range(word):\n",
    "        for j in range(word):\n",
    "            state |= (shape[i][j] << (120-8*(4*i+j)))\n",
    "    return state"
   ]
  },
  {
   "cell_type": "code",
   "execution_count": 15,
   "metadata": {},
   "outputs": [
    {
     "name": "stdout",
     "output_type": "stream",
     "text": [
      "[[185, 208, 70, 29], [118, 215, 234, 27], [134, 103, 145, 18], [82, 237, 91, 242]]\n",
      "[[3, 71, 152, 238], [143, 86, 179, 58], [92, 0, 143, 177], [181, 64, 144, 115]]\n"
     ]
    }
   ],
   "source": [
    "def test():\n",
    "    rando = 4359438891234324234234123189089243251\n",
    "    state = BytesToMatrix(rando)\n",
    "    state = mixColumns(state)\n",
    "    print(state)\n",
    "    state = inverseMixColumns(state)\n",
    "    print(state)\n",
    "test()"
   ]
  },
  {
   "cell_type": "markdown",
   "metadata": {},
   "source": [
    "# End of AES round functions (minus AddRoundKey)\n"
   ]
  },
  {
   "cell_type": "markdown",
   "metadata": {},
   "source": [
    "==================================\n",
    "# Key operations\n"
   ]
  },
  {
   "cell_type": "code",
   "execution_count": 16,
   "metadata": {},
   "outputs": [],
   "source": [
    "RoundConstants = ( 0x00, 0x01, 0x02, 0x04, 0x08, 0x10, 0x20, 0x40, 0x80, 0x1B, 0x36,)"
   ]
  },
  {
   "cell_type": "code",
   "execution_count": 17,
   "metadata": {},
   "outputs": [],
   "source": [
    "def AddRoundKey(state, key):\n",
    "    for i in range(word):\n",
    "        for j in range(word):\n",
    "            state[i][j] ^= key[i][j] \n",
    "    return state\n",
    "\n",
    "def roundKeys(key):\n",
    "    r_key = BytesToMatrix(key)\n",
    "    for i in range(word, word * 11):\n",
    "        r_key.append([])\n",
    "        if i % word == 0:\n",
    "            byte = r_key[i - word][0] ^ SubBytes[r_key[i - 1][1]] ^ RoundConstants[i // word]\n",
    "            r_key[i].append(byte)\n",
    "            for j in range(1, word):\n",
    "                byte = r_key[i - word][j] ^ SubBytes[r_key[i - 1][(j + 1) % word]]\n",
    "                r_key[i].append(byte)\n",
    "        else:\n",
    "            for j in range(word):\n",
    "                byte = r_key[i - word][j] ^ r_key[i - 1][j]\n",
    "                r_key[i].append(byte)\n",
    "    return r_key    "
   ]
  },
  {
   "cell_type": "markdown",
   "metadata": {},
   "source": [
    "# Encryption"
   ]
  },
  {
   "cell_type": "code",
   "execution_count": 18,
   "metadata": {},
   "outputs": [],
   "source": [
    "def encrypt (state, key):\n",
    "    print(\"Initial: \",state)\n",
    "    state = BytesToMatrix(state)\n",
    "    r_key = roundKeys(key)\n",
    "    state =  AddRoundKey(state, r_key[:word])\n",
    "    for i in range (rounds):\n",
    "        print(\"Round #: \", (i+1))\n",
    "        print(\"Input state: \", state)\n",
    "        roundkey = r_key[word*i:word*(i+1)]\n",
    "        print(\"Round key: \", roundkey)\n",
    "        state = encrypt_round (state, roundkey)\n",
    "        print(\"Output state: \", state)      \n",
    "    state = subBytes(state)\n",
    "    state = shiftRows(state)\n",
    "    state = AddRoundKey(state, r_key[40:])\n",
    "    print(state)\n",
    "    state = MatrixToBytes(state)\n",
    "    return state\n",
    "\n",
    "def encrypt_round (state, key):\n",
    "    #print(\"State:\",state)\n",
    "    state = subBytes(state)\n",
    "    state = shiftRows(state)\n",
    "    state = mixColumns(state)\n",
    "    state = AddRoundKey(state, key)\n",
    "    return state\n"
   ]
  },
  {
   "cell_type": "markdown",
   "metadata": {},
   "source": [
    "# Decryption"
   ]
  },
  {
   "cell_type": "code",
   "execution_count": 19,
   "metadata": {},
   "outputs": [],
   "source": [
    "def decrypt (state, key):\n",
    "    print(\"Initial: \",state)\n",
    "    state = BytesToMatrix(state)\n",
    "    r_key = roundKeys(key)\n",
    "    state = AddRoundKey(state, r_key[40:])\n",
    "    state = inverseShiftRows(state)\n",
    "    state = inverseSubBytes(state)\n",
    "    for i in range (rounds):\n",
    "        print(\"Round #: \", (i+1))\n",
    "        print(\"Input state: \", state)\n",
    "        roundkey = r_key[word*i:word*(i+1)]\n",
    "        print(\"Round key: \", roundkey)\n",
    "        state = decrypt_round (state, roundkey)\n",
    "        print(\"Output state: \", state)         \n",
    "    state =  AddRoundKey(state, r_key[:word])  \n",
    "    state = MatrixToBytes(state)\n",
    "    return state\n",
    "\n",
    "def decrypt_round (state, key):\n",
    "    #print(\"State:\",state)\n",
    "    state = AddRoundKey(state, key)\n",
    "    state = inverseMixColumns(state)\n",
    "    state = inverseShiftRows(state)\n",
    "    state = inverseSubBytes(state)   \n",
    "    return state"
   ]
  },
  {
   "cell_type": "markdown",
   "metadata": {},
   "source": [
    "# Test"
   ]
  },
  {
   "cell_type": "code",
   "execution_count": 22,
   "metadata": {},
   "outputs": [
    {
     "name": "stdout",
     "output_type": "stream",
     "text": [
      "Initial:  44119661605513827902282223338083915811\n",
      "Round #:  1\n",
      "Input state:  [[16, 21, 18, 96], [189, 147, 8, 195], [31, 199, 97, 21], [185, 59, 90, 48]]\n",
      "Round key:  [[49, 36, 49, 35], [174, 178, 49, 67], [43, 226, 19, 33], [33, 50, 66, 19]]\n",
      "[[202, 89, 201, 208], [122, 220, 48, 46], [192, 198, 239, 89], [86, 226, 190, 4]]\n",
      "Output state:  [[42, 99, 238, 93], [101, 86, 129, 14], [106, 147, 202, 13], [15, 223, 198, 50]]\n",
      "Round #:  2\n",
      "Input state:  [[42, 99, 238, 93], [101, 86, 129, 14], [106, 147, 202, 13], [15, 223, 198, 50]]\n",
      "Round key:  [[19, 8, 76, 222], [189, 186, 125, 157], [150, 88, 110, 188], [183, 106, 44, 175]]\n",
      "[[229, 251, 40, 76], [77, 177, 12, 171], [2, 220, 116, 215], [118, 158, 180, 35]]\n",
      "Output state:  [[93, 43, 149, 105], [160, 223, 75, 186], [168, 174, 68, 65], [150, 50, 219, 119]]\n",
      "Round #:  3\n",
      "Input state:  [[93, 43, 149, 105], [160, 223, 75, 186], [168, 174, 68, 65], [150, 50, 219, 119]]\n",
      "Round key:  [[19, 121, 53, 119], [174, 195, 72, 234], [56, 155, 38, 86], [143, 241, 10, 249]]\n",
      "[[76, 241, 42, 249], [224, 158, 179, 244], [194, 228, 27, 131], [144, 35, 185, 245]]\n",
      "Output state:  [[220, 202, 213, 215], [2, 217, 53, 101], [28, 149, 148, 241], [140, 213, 136, 13]]\n",
      "Round #:  4\n",
      "Input state:  [[220, 202, 213, 215], [2, 217, 53, 101], [28, 149, 148, 241], [140, 213, 136, 13]]\n",
      "Round key:  [[182, 30, 172, 4], [24, 221, 228, 238], [32, 70, 194, 184], [175, 183, 200, 65]]\n",
      "[[134, 116, 3, 14], [119, 53, 150, 77], [156, 42, 34, 161], [100, 3, 196, 215]]\n",
      "Output state:  [[11, 67, 57, 55], [66, 167, 56, 133], [72, 148, 140, 157], [204, 59, 23, 86]]\n",
      "Round #:  5\n",
      "Input state:  [[11, 67, 57, 55], [66, 167, 56, 133], [72, 148, 140, 157], [204, 59, 23, 86]]\n",
      "Round key:  [[23, 246, 47, 125], [15, 43, 203, 147], [47, 109, 9, 43], [128, 218, 193, 106]]\n",
      "[[43, 26, 18, 154], [44, 92, 7, 151], [82, 34, 100, 94], [75, 226, 240, 177]]\n",
      "Output state:  [[112, 120, 88, 65], [91, 210, 139, 26], [51, 65, 63, 24], [97, 242, 124, 22]]\n",
      "Round #:  6\n",
      "Input state:  [[112, 120, 88, 65], [91, 210, 139, 26], [51, 65, 63, 24], [97, 242, 124, 22]]\n",
      "Round key:  [[80, 142, 45, 176], [95, 165, 230, 35], [112, 200, 239, 8], [240, 18, 46, 98]]\n",
      "[[81, 188, 106, 131], [57, 181, 61, 162], [195, 131, 117, 173], [239, 137, 16, 71]]\n",
      "Output state:  [[4, 118, 234, 13], [32, 50, 226, 230], [165, 30, 140, 234], [122, 116, 235, 136]]\n",
      "Round #:  7\n",
      "Input state:  [[4, 118, 234, 13], [32, 50, 226, 230], [165, 30, 140, 234], [122, 116, 235, 136]]\n",
      "Round key:  [[185, 191, 135, 60], [230, 26, 97, 31], [150, 210, 142, 23], [102, 192, 160, 117]]\n",
      "[[242, 56, 135, 215], [183, 35, 152, 142], [6, 114, 100, 135], [218, 146, 233, 196]]\n",
      "Output state:  [[131, 99, 201, 229], [59, 190, 15, 243], [62, 247, 134, 15], [158, 94, 251, 181]]\n",
      "Round #:  8\n",
      "Input state:  [[131, 99, 201, 229], [59, 190, 15, 243], [62, 247, 134, 15], [158, 94, 251, 181]]\n",
      "Round key:  [[67, 95, 26, 15], [165, 69, 123, 16], [51, 151, 245, 7], [85, 87, 85, 114]]\n",
      "[[236, 251, 221, 217], [226, 174, 118, 13], [178, 104, 68, 118], [11, 88, 15, 213]]\n",
      "Output state:  [[248, 237, 180, 123], [20, 191, 159, 227], [116, 228, 169, 85], [85, 93, 211, 14]]\n",
      "Round #:  9\n",
      "Input state:  [[248, 237, 180, 123], [20, 191, 159, 227], [116, 228, 169, 85], [85, 93, 211, 14]]\n",
      "Round key:  [[152, 163, 90, 243], [61, 230, 33, 227], [14, 113, 212, 228], [91, 38, 129, 150]]\n",
      "[[65, 85, 141, 33], [250, 8, 219, 17], [146, 105, 211, 252], [252, 76, 102, 171]]\n",
      "Output state:  [[122, 55, 72, 166], [46, 69, 29, 187], [121, 230, 56, 170], [96, 250, 154, 228]]\n",
      "Round #:  10\n",
      "Input state:  [[122, 55, 72, 166], [46, 69, 29, 187], [121, 230, 56, 170], [96, 250, 154, 228]]\n",
      "Round key:  [[116, 175, 202, 202], [73, 73, 235, 41], [71, 56, 63, 205], [28, 30, 190, 91]]\n",
      "[[218, 154, 82, 36], [49, 110, 164, 234], [182, 142, 7, 172], [208, 45, 184, 105]]\n",
      "Output state:  [[7, 201, 203, 4], [62, 136, 83, 4], [255, 200, 37, 188], [26, 186, 72, 77]]\n",
      "[[197, 221, 31, 242], [178, 196, 237, 242], [22, 232, 63, 101], [162, 244, 82, 227]]\n",
      "[[245, 197, 204, 181], [203, 160, 74, 141], [40, 132, 56, 64], [128, 179, 116, 140]]\n",
      "Final CT:  326687893463311547110766383890265502860\n"
     ]
    }
   ],
   "source": [
    "plaintext = 0x21312343132139803425723498091823\n",
    "key = 0x31243123aeb231432be2132121324213\n",
    "cipher = encrypt(plaintext, key)\n",
    "print(\"Final CT: \", cipher)\n"
   ]
  },
  {
   "cell_type": "code",
   "execution_count": 23,
   "metadata": {},
   "outputs": [
    {
     "name": "stdout",
     "output_type": "stream",
     "text": [
      "Initial:  326687893463311547110766383890265502860\n",
      "Round #:  1\n",
      "Input state:  [[7, 201, 203, 4], [62, 136, 83, 4], [255, 200, 37, 188], [26, 186, 72, 77]]\n",
      "Round key:  [[49, 36, 49, 35], [174, 178, 49, 67], [43, 226, 19, 33], [33, 50, 66, 19]]\n",
      "Output state:  [[252, 1, 47, 220], [241, 23, 225, 195], [141, 12, 208, 107], [196, 102, 185, 36]]\n",
      "Round #:  2\n",
      "Input state:  [[252, 1, 47, 220], [241, 23, 225, 195], [141, 12, 208, 107], [196, 102, 185, 36]]\n",
      "Round key:  [[19, 8, 76, 222], [189, 186, 125, 157], [150, 88, 110, 188], [183, 106, 44, 175]]\n",
      "Output state:  [[83, 204, 51, 254], [45, 148, 94, 0], [149, 215, 202, 215], [1, 170, 182, 109]]\n",
      "Round #:  3\n",
      "Input state:  [[83, 204, 51, 254], [45, 148, 94, 0], [149, 215, 202, 215], [1, 170, 182, 109]]\n",
      "Round key:  [[19, 121, 53, 119], [174, 195, 72, 234], [56, 155, 38, 86], [143, 241, 10, 249]]\n",
      "Output state:  [[217, 89, 183, 242], [123, 244, 208, 114], [60, 140, 234, 42], [113, 230, 174, 2]]\n",
      "Round #:  4\n",
      "Input state:  [[217, 89, 183, 242], [123, 244, 208, 114], [60, 140, 234, 42], [113, 230, 174, 2]]\n",
      "Round key:  [[182, 30, 172, 4], [24, 221, 228, 238], [32, 70, 194, 184], [175, 183, 200, 65]]\n",
      "Output state:  [[100, 20, 121, 238], [213, 192, 2, 95], [70, 246, 197, 137], [58, 146, 206, 55]]\n",
      "Round #:  5\n",
      "Input state:  [[100, 20, 121, 238], [213, 192, 2, 95], [70, 246, 197, 137], [58, 146, 206, 55]]\n",
      "Round key:  [[23, 246, 47, 125], [15, 43, 203, 147], [47, 109, 9, 43], [128, 218, 193, 106]]\n",
      "Output state:  [[196, 104, 26, 126], [3, 240, 223, 159], [166, 120, 172, 158], [208, 221, 82, 237]]\n",
      "Round #:  6\n",
      "Input state:  [[196, 104, 26, 126], [3, 240, 223, 159], [166, 120, 172, 158], [208, 221, 82, 237]]\n",
      "Round key:  [[80, 142, 45, 176], [95, 165, 230, 35], [112, 200, 239, 8], [240, 18, 46, 98]]\n",
      "Output state:  [[63, 237, 39, 69], [248, 114, 255, 127], [166, 79, 159, 250], [30, 242, 61, 188]]\n",
      "Round #:  7\n",
      "Input state:  [[63, 237, 39, 69], [248, 114, 255, 127], [166, 79, 159, 250], [30, 242, 61, 188]]\n",
      "Round key:  [[185, 191, 135, 60], [230, 26, 97, 31], [150, 210, 142, 23], [102, 192, 160, 117]]\n",
      "Output state:  [[177, 94, 249, 52], [144, 140, 171, 193], [67, 68, 186, 110], [254, 98, 60, 237]]\n",
      "Round #:  8\n",
      "Input state:  [[177, 94, 249, 52], [144, 140, 171, 193], [67, 68, 186, 110], [254, 98, 60, 237]]\n",
      "Round key:  [[67, 95, 26, 15], [165, 69, 123, 16], [51, 151, 245, 7], [85, 87, 85, 114]]\n",
      "Output state:  [[50, 255, 209, 36], [73, 157, 90, 134], [124, 95, 140, 184], [170, 97, 37, 161]]\n",
      "Round #:  9\n",
      "Input state:  [[50, 255, 209, 36], [73, 157, 90, 134], [124, 95, 140, 184], [170, 97, 37, 161]]\n",
      "Round key:  [[152, 163, 90, 243], [61, 230, 33, 227], [14, 113, 212, 228], [91, 38, 129, 150]]\n",
      "Output state:  [[253, 218, 185, 197], [95, 138, 31, 19], [39, 55, 162, 179], [239, 244, 59, 192]]\n",
      "Round #:  10\n",
      "Input state:  [[253, 218, 185, 197], [95, 138, 31, 19], [39, 55, 162, 179], [239, 244, 59, 192]]\n",
      "Round key:  [[116, 175, 202, 202], [73, 73, 235, 41], [71, 56, 63, 205], [28, 30, 190, 91]]\n",
      "Output state:  [[100, 25, 142, 247], [221, 211, 104, 222], [176, 137, 26, 14], [139, 6, 47, 56]]\n",
      "113305000522401689307166656059055303979\n"
     ]
    }
   ],
   "source": [
    "decrypted = decrypt(cipher, key)\n",
    "print(decrypted)"
   ]
  },
  {
   "cell_type": "markdown",
   "metadata": {},
   "source": [
    "Need to debug the code to match the original PT and decrypted CT, but unfortunately ran out of time due to mid-terms this week and the survey report. I'll work on it for my own understanding after the exam on Thursday."
   ]
  },
  {
   "cell_type": "code",
   "execution_count": null,
   "metadata": {},
   "outputs": [],
   "source": []
  },
  {
   "cell_type": "code",
   "execution_count": null,
   "metadata": {},
   "outputs": [],
   "source": []
  },
  {
   "cell_type": "code",
   "execution_count": null,
   "metadata": {},
   "outputs": [],
   "source": []
  }
 ],
 "metadata": {
  "kernelspec": {
   "display_name": "Python 3",
   "language": "python",
   "name": "python3"
  },
  "language_info": {
   "codemirror_mode": {
    "name": "ipython",
    "version": 3
   },
   "file_extension": ".py",
   "mimetype": "text/x-python",
   "name": "python",
   "nbconvert_exporter": "python",
   "pygments_lexer": "ipython3",
   "version": "3.8.5"
  }
 },
 "nbformat": 4,
 "nbformat_minor": 4
}
